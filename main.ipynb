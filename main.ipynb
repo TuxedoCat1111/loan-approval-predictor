{
 "cells": [
  {
   "cell_type": "code",
   "execution_count": 48,
   "id": "ee89a906",
   "metadata": {},
   "outputs": [],
   "source": [
    "import warnings\n",
    "warnings.simplefilter('ignore', UserWarning)"
   ]
  },
  {
   "cell_type": "code",
   "execution_count": 2,
   "id": "773f4b9a",
   "metadata": {},
   "outputs": [],
   "source": [
    "from joblib import load\n",
    "\n",
    "# Load the trained model\n",
    "def load_model(model_file):\n",
    "    try: \n",
    "        rfc = load(model_file)\n",
    "        return rfc\n",
    "    except Exception as e:\n",
    "        print(\"Error loading the model:\", e)\n",
    "        return None"
   ]
  },
  {
   "cell_type": "code",
   "execution_count": 23,
   "id": "76d6773f",
   "metadata": {},
   "outputs": [],
   "source": [
    "# Function to get user inputs\n",
    "def get_user_inputs():\n",
    "    no_of_dependents = int(input(\"How many dependents do you have: \"))\n",
    "    education = input(\"What is your college education level ('Graduate' or 'Not Graduate'): \").lower()\n",
    "    self_employed = input(\"Are you self-employed? (yes/no): \").lower()\n",
    "    income_annum = float(input(\"Annual income: \"))\n",
    "    loan_amount = float(input(\"Loan amount: \"))\n",
    "    loan_term = int(input(\"Loan term (in years): \"))\n",
    "    cibil_score = int(input(\"What is your CIBIL score: \"))\n",
    "    residential_assets_value = float(input(\"Value of residential assets: \"))\n",
    "    commercial_assets_value = float(input(\"Value of commercial assets: \"))\n",
    "    luxury_assets_value = float(input(\"Value of luxury assets: \"))\n",
    "    bank_asset_value = float(input(\"Value of bank assets: \"))\n",
    "    \n",
    "    return [no_of_dependents, education, self_employed, income_annum, \n",
    "            loan_amount, loan_term, cibil_score, residential_assets_value, \n",
    "            commercial_assets_value, luxury_assets_value, bank_asset_value]\n"
   ]
  },
  {
   "cell_type": "code",
   "execution_count": 7,
   "id": "29804e6c",
   "metadata": {},
   "outputs": [],
   "source": [
    "# Function to preprocess user inputs\n",
    "def preprocess_inputs(inputs):\n",
    "    # Convert education to numerical values\n",
    "    education_mapping = {'graduate': 0, 'not graduate': 1}\n",
    "    inputs[1] = education_mapping.get(inputs[1], 0)\n",
    "    \n",
    "    # Convert self_employed to binary\n",
    "    inputs[2] = 0 if inputs[2] == 'yes' else 1\n",
    "    \n",
    "    return inputs"
   ]
  },
  {
   "cell_type": "code",
   "execution_count": 40,
   "id": "da48047d",
   "metadata": {},
   "outputs": [],
   "source": [
    "# Function to make prediction\n",
    "def predict_approval(model, inputs):\n",
    "    # Get probability estimates for both classes\n",
    "    proba = model.predict_proba([inputs])[0]\n",
    "    \n",
    "    # Probability of class 0 (approval)\n",
    "    approval_proba = proba[0]\n",
    "    \n",
    "    # Return probability of approval\n",
    "    return approval_proba\n"
   ]
  },
  {
   "cell_type": "code",
   "execution_count": 46,
   "id": "d0f7966f",
   "metadata": {},
   "outputs": [],
   "source": [
    "def display_outcome(prediction):\n",
    "    print(f\"Probability of approval: {prediction*100}%\")\n",
    "    if prediction > 0.5:\n",
    "        print('Application outcome: Approved')\n",
    "    else:\n",
    "        print('Application outcome: Rejected')"
   ]
  },
  {
   "cell_type": "code",
   "execution_count": 49,
   "id": "eb114b99",
   "metadata": {},
   "outputs": [
    {
     "name": "stdout",
     "output_type": "stream",
     "text": [
      "*** WELCOME TO THE LOAN APPROVAL INDICATOR ***\n",
      "Please input the following information.\n",
      "How many dependents do you have: 5\n",
      "What is your college education level ('Graduate' or 'Not Graduate'): not graduate\n",
      "Are you self-employed? (yes/no): yes\n",
      "Annual income: 150000\n",
      "Loan amount: 100000\n",
      "Loan term (in months): 48\n",
      "What is your CIBIL score: 500\n",
      "Value of residential assets: 100000\n",
      "Value of commercial assets: 10000\n",
      "Value of luxury assets: 10000\n",
      "Value of bank assets: 10000\n",
      "Probability of approval: 0.0%\n",
      "Application outcome: Rejected\n",
      "Do you want to start over? (y/n): y\n",
      "*** WELCOME TO THE LOAN APPROVAL INDICATOR ***\n",
      "Please input the following information.\n",
      "How many dependents do you have: 0\n",
      "What is your college education level ('Graduate' or 'Not Graduate'): not graduate\n",
      "Are you self-employed? (yes/no): yes\n",
      "Annual income: 1000000\n",
      "Loan amount: 500000\n",
      "Loan term (in months): 48\n",
      "What is your CIBIL score: 600\n",
      "Value of residential assets: 1000000\n",
      "Value of commercial assets: 50000\n",
      "Value of luxury assets: 50000\n",
      "Value of bank assets: 50000\n",
      "Probability of approval: 95.0%\n",
      "Application outcome: Approved\n",
      "Do you want to start over? (y/n): n\n",
      "Goodbye!\n"
     ]
    }
   ],
   "source": [
    "# Main function\n",
    "def main():\n",
    "    while True:\n",
    "        print(\"*** WELCOME TO THE LOAN APPROVAL INDICATOR ***\")\n",
    "        print(\"Please input the following information.\")\n",
    "        \n",
    "        # Load the trained model\n",
    "        model_file = 'trained_rfc.joblib'\n",
    "        model = load_model(model_file)\n",
    "        \n",
    "        # Get user inputs\n",
    "        user_inputs = get_user_inputs()\n",
    "\n",
    "        # Preprocess user inputs\n",
    "        preprocessed_inputs = preprocess_inputs(user_inputs)\n",
    "\n",
    "        # Make prediction\n",
    "        prediction = predict_approval(model, preprocessed_inputs)\n",
    "\n",
    "        # Display prediction\n",
    "        #print(\"Probability of approval: \", prediction)\n",
    "        display_outcome(prediction)\n",
    "        \n",
    "        # Ask the user if they want to continue or quit\n",
    "        choice = input(\"Do you want to start over? (y/n): \").lower()\n",
    "        if choice != 'y':\n",
    "            print(\"Goodbye!\")\n",
    "            break\n",
    "\n",
    "\n",
    "if __name__ == \"__main__\":\n",
    "    main()"
   ]
  },
  {
   "cell_type": "code",
   "execution_count": null,
   "id": "ed7a491b",
   "metadata": {},
   "outputs": [],
   "source": []
  }
 ],
 "metadata": {
  "kernelspec": {
   "display_name": "Python 3 (ipykernel)",
   "language": "python",
   "name": "python3"
  },
  "language_info": {
   "codemirror_mode": {
    "name": "ipython",
    "version": 3
   },
   "file_extension": ".py",
   "mimetype": "text/x-python",
   "name": "python",
   "nbconvert_exporter": "python",
   "pygments_lexer": "ipython3",
   "version": "3.10.10"
  }
 },
 "nbformat": 4,
 "nbformat_minor": 5
}
