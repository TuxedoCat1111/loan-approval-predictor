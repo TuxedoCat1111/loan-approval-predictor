{
 "cells": [
  {
   "cell_type": "code",
   "execution_count": 1,
   "id": "773f4b9a",
   "metadata": {},
   "outputs": [],
   "source": [
    "from joblib import load\n",
    "\n",
    "# Load the trained model\n",
    "def load_model(model_file):\n",
    "    try: \n",
    "        rfc = load(model_file)\n",
    "        return rfc\n",
    "    except Exception as e:\n",
    "        print(\"Error loading the model:\", e)\n",
    "        return None"
   ]
  },
  {
   "cell_type": "code",
   "execution_count": 2,
   "id": "76d6773f",
   "metadata": {},
   "outputs": [],
   "source": [
    "# Function to get user inputs\n",
    "def get_user_inputs():\n",
    "    print(\"*** WELCOME TO THE LOAN APPROVAL PREDICTOR ***\")\n",
    "    print(\"Please input the following information.\")\n",
    "    no_of_dependents = int(input(\"How many dependents do you have: \"))\n",
    "    education = input(\"What is your college education level ('Graduate' or 'Not Graduate'): \").lower()\n",
    "    self_employed = input(\"Are you self-employed? (yes/no): \").lower()\n",
    "    income_annum = float(input(\"Annual income: \"))\n",
    "    loan_amount = float(input(\"Loan amount: \"))\n",
    "    loan_term = int(input(\"Loan term (in months): \"))\n",
    "    cibil_score = int(input(\"What is your CIBIL score: \"))\n",
    "    residential_assets_value = float(input(\"Value of residential assets: \"))\n",
    "    commercial_assets_value = float(input(\"Value of commercial assets: \"))\n",
    "    luxury_assets_value = float(input(\"Value of luxury assets: \"))\n",
    "    bank_asset_value = float(input(\"Value of bank assets: \"))\n",
    "    \n",
    "    return [no_of_dependents, education, self_employed, income_annum, loan_amount, loan_term, cibil_score, residential_assets_value, commercial_assets_value, luxury_assets_value, bank_asset_value]\n"
   ]
  },
  {
   "cell_type": "code",
   "execution_count": 3,
   "id": "29804e6c",
   "metadata": {},
   "outputs": [],
   "source": [
    "# Function to preprocess user inputs\n",
    "def preprocess_inputs(inputs):\n",
    "    # Convert education to numerical values\n",
    "    education_mapping = {'graduate': 0, 'not graduate': 1}\n",
    "    inputs[1] = education_mapping.get(inputs[1], 0)\n",
    "    \n",
    "    # Convert self_employed to binary\n",
    "    inputs[2] = 1 if inputs[2] == 'yes' else 0\n",
    "    \n",
    "    return inputs"
   ]
  },
  {
   "cell_type": "code",
   "execution_count": 4,
   "id": "d468a903",
   "metadata": {},
   "outputs": [],
   "source": [
    "# Function to make prediction\n",
    "def predict_approval(model, inputs):\n",
    "    prediction = model.predict([inputs])\n",
    "    return 'Approved' if prediction[0] == 1 else 'Rejected'"
   ]
  },
  {
   "cell_type": "code",
   "execution_count": 5,
   "id": "eb114b99",
   "metadata": {},
   "outputs": [
    {
     "name": "stdout",
     "output_type": "stream",
     "text": [
      "*** WELCOME TO THE LOAN APPROVAL PREDICTOR ***\n",
      "Please input the following information.\n",
      "How many dependents do you have: 3\n",
      "What is your college education level ('Graduate' or 'Not Graduate'): Graduate\n",
      "Are you self-employed? (yes/no): yes\n",
      "Annual income: 5000000\n",
      "Loan amount: 1000000\n",
      "Loan term (in months): 20\n",
      "What is your CIBIL score: 690\n",
      "Value of residential assets: 1000000\n",
      "Value of commercial assets: 0\n",
      "Value of luxury assets: 0\n",
      "Value of bank assets: 200000\n",
      "Loan Prediction: Rejected\n"
     ]
    },
    {
     "name": "stderr",
     "output_type": "stream",
     "text": [
      "/Library/Frameworks/Python.framework/Versions/3.10/lib/python3.10/site-packages/sklearn/base.py:465: UserWarning: X does not have valid feature names, but RandomForestClassifier was fitted with feature names\n",
      "  warnings.warn(\n"
     ]
    }
   ],
   "source": [
    "# Main function\n",
    "def main():\n",
    "    # Load the trained model\n",
    "    model_file = 'trained_rfc.joblib'\n",
    "    model = load_model(model_file)\n",
    "    \n",
    "    # Get user inputs\n",
    "    user_inputs = get_user_inputs()\n",
    "    \n",
    "    # Preprocess user inputs\n",
    "    preprocessed_inputs = preprocess_inputs(user_inputs)\n",
    "    \n",
    "    # Make prediction\n",
    "    prediction = predict_approval(model, preprocessed_inputs)\n",
    "    \n",
    "    # Display prediction\n",
    "    print(\"Loan Prediction:\", prediction)\n",
    "\n",
    "if __name__ == \"__main__\":\n",
    "    main()"
   ]
  },
  {
   "cell_type": "code",
   "execution_count": null,
   "id": "ed7a491b",
   "metadata": {},
   "outputs": [],
   "source": []
  }
 ],
 "metadata": {
  "kernelspec": {
   "display_name": "Python 3 (ipykernel)",
   "language": "python",
   "name": "python3"
  },
  "language_info": {
   "codemirror_mode": {
    "name": "ipython",
    "version": 3
   },
   "file_extension": ".py",
   "mimetype": "text/x-python",
   "name": "python",
   "nbconvert_exporter": "python",
   "pygments_lexer": "ipython3",
   "version": "3.10.10"
  }
 },
 "nbformat": 4,
 "nbformat_minor": 5
}
