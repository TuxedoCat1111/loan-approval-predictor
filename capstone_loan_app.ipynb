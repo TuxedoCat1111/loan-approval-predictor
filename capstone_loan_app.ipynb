{
 "cells": [
  {
   "cell_type": "code",
   "execution_count": 1,
   "id": "fab2db0a",
   "metadata": {},
   "outputs": [],
   "source": [
    "# Import libraries\n",
    "import numpy as np # linear algebra\n",
    "import pandas as pd\n",
    "import matplotlib.pyplot as plt\n",
    "\n",
    "from sklearn.preprocessing import LabelEncoder\n"
   ]
  },
  {
   "cell_type": "code",
   "execution_count": 2,
   "id": "16031992",
   "metadata": {},
   "outputs": [],
   "source": [
    "# Load the dataframe\n",
    "data = pd.read_csv('loan_approval_dataset.csv')"
   ]
  },
  {
   "cell_type": "code",
   "execution_count": 3,
   "id": "4c038999",
   "metadata": {},
   "outputs": [
    {
     "data": {
      "text/html": [
       "<div>\n",
       "<style scoped>\n",
       "    .dataframe tbody tr th:only-of-type {\n",
       "        vertical-align: middle;\n",
       "    }\n",
       "\n",
       "    .dataframe tbody tr th {\n",
       "        vertical-align: top;\n",
       "    }\n",
       "\n",
       "    .dataframe thead th {\n",
       "        text-align: right;\n",
       "    }\n",
       "</style>\n",
       "<table border=\"1\" class=\"dataframe\">\n",
       "  <thead>\n",
       "    <tr style=\"text-align: right;\">\n",
       "      <th></th>\n",
       "      <th>loan_id</th>\n",
       "      <th>no_of_dependents</th>\n",
       "      <th>education</th>\n",
       "      <th>self_employed</th>\n",
       "      <th>income_annum</th>\n",
       "      <th>loan_amount</th>\n",
       "      <th>loan_term</th>\n",
       "      <th>cibil_score</th>\n",
       "      <th>residential_assets_value</th>\n",
       "      <th>commercial_assets_value</th>\n",
       "      <th>luxury_assets_value</th>\n",
       "      <th>bank_asset_value</th>\n",
       "      <th>loan_status</th>\n",
       "    </tr>\n",
       "  </thead>\n",
       "  <tbody>\n",
       "    <tr>\n",
       "      <th>0</th>\n",
       "      <td>1</td>\n",
       "      <td>2</td>\n",
       "      <td>Graduate</td>\n",
       "      <td>No</td>\n",
       "      <td>9600000</td>\n",
       "      <td>29900000</td>\n",
       "      <td>12</td>\n",
       "      <td>778</td>\n",
       "      <td>2400000</td>\n",
       "      <td>17600000</td>\n",
       "      <td>22700000</td>\n",
       "      <td>8000000</td>\n",
       "      <td>Approved</td>\n",
       "    </tr>\n",
       "    <tr>\n",
       "      <th>1</th>\n",
       "      <td>2</td>\n",
       "      <td>0</td>\n",
       "      <td>Not Graduate</td>\n",
       "      <td>Yes</td>\n",
       "      <td>4100000</td>\n",
       "      <td>12200000</td>\n",
       "      <td>8</td>\n",
       "      <td>417</td>\n",
       "      <td>2700000</td>\n",
       "      <td>2200000</td>\n",
       "      <td>8800000</td>\n",
       "      <td>3300000</td>\n",
       "      <td>Rejected</td>\n",
       "    </tr>\n",
       "    <tr>\n",
       "      <th>2</th>\n",
       "      <td>3</td>\n",
       "      <td>3</td>\n",
       "      <td>Graduate</td>\n",
       "      <td>No</td>\n",
       "      <td>9100000</td>\n",
       "      <td>29700000</td>\n",
       "      <td>20</td>\n",
       "      <td>506</td>\n",
       "      <td>7100000</td>\n",
       "      <td>4500000</td>\n",
       "      <td>33300000</td>\n",
       "      <td>12800000</td>\n",
       "      <td>Rejected</td>\n",
       "    </tr>\n",
       "    <tr>\n",
       "      <th>3</th>\n",
       "      <td>4</td>\n",
       "      <td>3</td>\n",
       "      <td>Graduate</td>\n",
       "      <td>No</td>\n",
       "      <td>8200000</td>\n",
       "      <td>30700000</td>\n",
       "      <td>8</td>\n",
       "      <td>467</td>\n",
       "      <td>18200000</td>\n",
       "      <td>3300000</td>\n",
       "      <td>23300000</td>\n",
       "      <td>7900000</td>\n",
       "      <td>Rejected</td>\n",
       "    </tr>\n",
       "    <tr>\n",
       "      <th>4</th>\n",
       "      <td>5</td>\n",
       "      <td>5</td>\n",
       "      <td>Not Graduate</td>\n",
       "      <td>Yes</td>\n",
       "      <td>9800000</td>\n",
       "      <td>24200000</td>\n",
       "      <td>20</td>\n",
       "      <td>382</td>\n",
       "      <td>12400000</td>\n",
       "      <td>8200000</td>\n",
       "      <td>29400000</td>\n",
       "      <td>5000000</td>\n",
       "      <td>Rejected</td>\n",
       "    </tr>\n",
       "    <tr>\n",
       "      <th>5</th>\n",
       "      <td>6</td>\n",
       "      <td>0</td>\n",
       "      <td>Graduate</td>\n",
       "      <td>Yes</td>\n",
       "      <td>4800000</td>\n",
       "      <td>13500000</td>\n",
       "      <td>10</td>\n",
       "      <td>319</td>\n",
       "      <td>6800000</td>\n",
       "      <td>8300000</td>\n",
       "      <td>13700000</td>\n",
       "      <td>5100000</td>\n",
       "      <td>Rejected</td>\n",
       "    </tr>\n",
       "    <tr>\n",
       "      <th>6</th>\n",
       "      <td>7</td>\n",
       "      <td>5</td>\n",
       "      <td>Graduate</td>\n",
       "      <td>No</td>\n",
       "      <td>8700000</td>\n",
       "      <td>33000000</td>\n",
       "      <td>4</td>\n",
       "      <td>678</td>\n",
       "      <td>22500000</td>\n",
       "      <td>14800000</td>\n",
       "      <td>29200000</td>\n",
       "      <td>4300000</td>\n",
       "      <td>Approved</td>\n",
       "    </tr>\n",
       "    <tr>\n",
       "      <th>7</th>\n",
       "      <td>8</td>\n",
       "      <td>2</td>\n",
       "      <td>Graduate</td>\n",
       "      <td>Yes</td>\n",
       "      <td>5700000</td>\n",
       "      <td>15000000</td>\n",
       "      <td>20</td>\n",
       "      <td>382</td>\n",
       "      <td>13200000</td>\n",
       "      <td>5700000</td>\n",
       "      <td>11800000</td>\n",
       "      <td>6000000</td>\n",
       "      <td>Rejected</td>\n",
       "    </tr>\n",
       "    <tr>\n",
       "      <th>8</th>\n",
       "      <td>9</td>\n",
       "      <td>0</td>\n",
       "      <td>Graduate</td>\n",
       "      <td>Yes</td>\n",
       "      <td>800000</td>\n",
       "      <td>2200000</td>\n",
       "      <td>20</td>\n",
       "      <td>782</td>\n",
       "      <td>1300000</td>\n",
       "      <td>800000</td>\n",
       "      <td>2800000</td>\n",
       "      <td>600000</td>\n",
       "      <td>Approved</td>\n",
       "    </tr>\n",
       "    <tr>\n",
       "      <th>9</th>\n",
       "      <td>10</td>\n",
       "      <td>5</td>\n",
       "      <td>Not Graduate</td>\n",
       "      <td>No</td>\n",
       "      <td>1100000</td>\n",
       "      <td>4300000</td>\n",
       "      <td>10</td>\n",
       "      <td>388</td>\n",
       "      <td>3200000</td>\n",
       "      <td>1400000</td>\n",
       "      <td>3300000</td>\n",
       "      <td>1600000</td>\n",
       "      <td>Rejected</td>\n",
       "    </tr>\n",
       "  </tbody>\n",
       "</table>\n",
       "</div>"
      ],
      "text/plain": [
       "   loan_id   no_of_dependents      education  self_employed   income_annum  \\\n",
       "0        1                  2       Graduate             No        9600000   \n",
       "1        2                  0   Not Graduate            Yes        4100000   \n",
       "2        3                  3       Graduate             No        9100000   \n",
       "3        4                  3       Graduate             No        8200000   \n",
       "4        5                  5   Not Graduate            Yes        9800000   \n",
       "5        6                  0       Graduate            Yes        4800000   \n",
       "6        7                  5       Graduate             No        8700000   \n",
       "7        8                  2       Graduate            Yes        5700000   \n",
       "8        9                  0       Graduate            Yes         800000   \n",
       "9       10                  5   Not Graduate             No        1100000   \n",
       "\n",
       "    loan_amount   loan_term   cibil_score   residential_assets_value  \\\n",
       "0      29900000          12           778                    2400000   \n",
       "1      12200000           8           417                    2700000   \n",
       "2      29700000          20           506                    7100000   \n",
       "3      30700000           8           467                   18200000   \n",
       "4      24200000          20           382                   12400000   \n",
       "5      13500000          10           319                    6800000   \n",
       "6      33000000           4           678                   22500000   \n",
       "7      15000000          20           382                   13200000   \n",
       "8       2200000          20           782                    1300000   \n",
       "9       4300000          10           388                    3200000   \n",
       "\n",
       "    commercial_assets_value   luxury_assets_value   bank_asset_value  \\\n",
       "0                  17600000              22700000            8000000   \n",
       "1                   2200000               8800000            3300000   \n",
       "2                   4500000              33300000           12800000   \n",
       "3                   3300000              23300000            7900000   \n",
       "4                   8200000              29400000            5000000   \n",
       "5                   8300000              13700000            5100000   \n",
       "6                  14800000              29200000            4300000   \n",
       "7                   5700000              11800000            6000000   \n",
       "8                    800000               2800000             600000   \n",
       "9                   1400000               3300000            1600000   \n",
       "\n",
       "   loan_status  \n",
       "0     Approved  \n",
       "1     Rejected  \n",
       "2     Rejected  \n",
       "3     Rejected  \n",
       "4     Rejected  \n",
       "5     Rejected  \n",
       "6     Approved  \n",
       "7     Rejected  \n",
       "8     Approved  \n",
       "9     Rejected  "
      ]
     },
     "execution_count": 3,
     "metadata": {},
     "output_type": "execute_result"
    }
   ],
   "source": [
    "data.head(10)"
   ]
  },
  {
   "cell_type": "code",
   "execution_count": 4,
   "id": "1b7694f7",
   "metadata": {},
   "outputs": [
    {
     "data": {
      "text/plain": [
       "(4269, 13)"
      ]
     },
     "execution_count": 4,
     "metadata": {},
     "output_type": "execute_result"
    }
   ],
   "source": [
    "data.shape"
   ]
  },
  {
   "cell_type": "code",
   "execution_count": 5,
   "id": "55470276",
   "metadata": {},
   "outputs": [
    {
     "data": {
      "text/plain": [
       "Index(['loan_id', ' no_of_dependents', ' education', ' self_employed',\n",
       "       ' income_annum', ' loan_amount', ' loan_term', ' cibil_score',\n",
       "       ' residential_assets_value', ' commercial_assets_value',\n",
       "       ' luxury_assets_value', ' bank_asset_value', ' loan_status'],\n",
       "      dtype='object')"
      ]
     },
     "execution_count": 5,
     "metadata": {},
     "output_type": "execute_result"
    }
   ],
   "source": [
    "data.columns"
   ]
  },
  {
   "cell_type": "code",
   "execution_count": 6,
   "id": "d8b75b6e",
   "metadata": {},
   "outputs": [],
   "source": [
    "# Remove leading spaces from column names\n",
    "data.rename(columns=lambda x: x.strip(), inplace=True)\n",
    "\n",
    "# Drop loan_id column as this is not needed\n",
    "data.drop(columns=['loan_id'], inplace=True)"
   ]
  },
  {
   "cell_type": "code",
   "execution_count": 7,
   "id": "ffdd9bd8",
   "metadata": {},
   "outputs": [
    {
     "data": {
      "text/plain": [
       "Index(['no_of_dependents', 'education', 'self_employed', 'income_annum',\n",
       "       'loan_amount', 'loan_term', 'cibil_score', 'residential_assets_value',\n",
       "       'commercial_assets_value', 'luxury_assets_value', 'bank_asset_value',\n",
       "       'loan_status'],\n",
       "      dtype='object')"
      ]
     },
     "execution_count": 7,
     "metadata": {},
     "output_type": "execute_result"
    }
   ],
   "source": [
    "#check the above changes\n",
    "data.columns"
   ]
  },
  {
   "cell_type": "code",
   "execution_count": 7,
   "id": "93501002",
   "metadata": {},
   "outputs": [
    {
     "data": {
      "text/plain": [
       "no_of_dependents            0\n",
       "education                   0\n",
       "self_employed               0\n",
       "income_annum                0\n",
       "loan_amount                 0\n",
       "loan_term                   0\n",
       "cibil_score                 0\n",
       "residential_assets_value    0\n",
       "commercial_assets_value     0\n",
       "luxury_assets_value         0\n",
       "bank_asset_value            0\n",
       "loan_status                 0\n",
       "dtype: int64"
      ]
     },
     "execution_count": 7,
     "metadata": {},
     "output_type": "execute_result"
    }
   ],
   "source": [
    "#check for null values in the dataset\n",
    "data.isnull().sum()"
   ]
  },
  {
   "cell_type": "code",
   "execution_count": 8,
   "id": "cecd5a9d",
   "metadata": {},
   "outputs": [
    {
     "data": {
      "text/plain": [
       "no_of_dependents             int64\n",
       "education                   object\n",
       "self_employed               object\n",
       "income_annum                 int64\n",
       "loan_amount                  int64\n",
       "loan_term                    int64\n",
       "cibil_score                  int64\n",
       "residential_assets_value     int64\n",
       "commercial_assets_value      int64\n",
       "luxury_assets_value          int64\n",
       "bank_asset_value             int64\n",
       "loan_status                 object\n",
       "dtype: object"
      ]
     },
     "execution_count": 8,
     "metadata": {},
     "output_type": "execute_result"
    }
   ],
   "source": [
    "#review the data type for each column\n",
    "data.dtypes"
   ]
  },
  {
   "cell_type": "code",
   "execution_count": 9,
   "id": "4f641b6d",
   "metadata": {},
   "outputs": [
    {
     "data": {
      "text/plain": [
       "0"
      ]
     },
     "execution_count": 9,
     "metadata": {},
     "output_type": "execute_result"
    }
   ],
   "source": [
    "# Check for duplicate rows in the dataframe \n",
    "data.duplicated().sum()"
   ]
  },
  {
   "cell_type": "code",
   "execution_count": 10,
   "id": "f0582a17",
   "metadata": {},
   "outputs": [],
   "source": [
    "# Create a new column for CIBIL ratings (poor, low, fair, good, execellent)\n",
    "\n",
    "def cibil_rating(value):\n",
    "    if 300 <= value <= 600:\n",
    "        return 'Poor'\n",
    "    elif 601 <= value <= 700:\n",
    "        return 'Low'\n",
    "    elif 701 <= value <= 749:\n",
    "        return 'Fair'\n",
    "    elif 750 <= value <= 799:\n",
    "        return 'Good'\n",
    "    elif 800 <= value <= 900:\n",
    "        return 'Excellent'\n",
    "    else:\n",
    "        return 'Error'\n",
    "\n",
    "data['cibil_range'] = data['cibil_score'].apply(cibil_rating)"
   ]
  },
  {
   "cell_type": "code",
   "execution_count": 11,
   "id": "9fd74c1e",
   "metadata": {},
   "outputs": [
    {
     "data": {
      "text/plain": [
       "0       Good\n",
       "1       Poor\n",
       "2       Poor\n",
       "3       Poor\n",
       "4       Poor\n",
       "        ... \n",
       "4264    Poor\n",
       "4265    Poor\n",
       "4266    Poor\n",
       "4267    Good\n",
       "4268     Low\n",
       "Name: cibil_range, Length: 4269, dtype: object"
      ]
     },
     "execution_count": 11,
     "metadata": {},
     "output_type": "execute_result"
    }
   ],
   "source": [
    "data['cibil_range']"
   ]
  },
  {
   "cell_type": "code",
   "execution_count": 12,
   "id": "84349f63",
   "metadata": {},
   "outputs": [],
   "source": [
    "# for simplicity, apply one hot encoding to the data in the columns for education, self-employed, and loan status \n",
    "\n",
    "# Create a LabelEncoder instance\n",
    "label_encoder = LabelEncoder()\n",
    "\n",
    "# Apply label encoding to the 'education' column\n",
    "data['education'] = label_encoder.fit_transform(data['education'])\n",
    "\n",
    "# Apply label encoding to the 'self_employed' column\n",
    "data['self_employed'] = label_encoder.fit_transform(data['self_employed'])\n",
    "\n",
    "# Apply label encoding to the 'loan_status' column\n",
    "data['loan_status'] = label_encoder.fit_transform(data['loan_status'])"
   ]
  },
  {
   "cell_type": "code",
   "execution_count": 13,
   "id": "92e1f0f4",
   "metadata": {},
   "outputs": [
    {
     "data": {
      "text/html": [
       "<div>\n",
       "<style scoped>\n",
       "    .dataframe tbody tr th:only-of-type {\n",
       "        vertical-align: middle;\n",
       "    }\n",
       "\n",
       "    .dataframe tbody tr th {\n",
       "        vertical-align: top;\n",
       "    }\n",
       "\n",
       "    .dataframe thead th {\n",
       "        text-align: right;\n",
       "    }\n",
       "</style>\n",
       "<table border=\"1\" class=\"dataframe\">\n",
       "  <thead>\n",
       "    <tr style=\"text-align: right;\">\n",
       "      <th></th>\n",
       "      <th>education</th>\n",
       "      <th>self_employed</th>\n",
       "      <th>loan_status</th>\n",
       "    </tr>\n",
       "  </thead>\n",
       "  <tbody>\n",
       "    <tr>\n",
       "      <th>0</th>\n",
       "      <td>0</td>\n",
       "      <td>0</td>\n",
       "      <td>0</td>\n",
       "    </tr>\n",
       "    <tr>\n",
       "      <th>1</th>\n",
       "      <td>1</td>\n",
       "      <td>1</td>\n",
       "      <td>1</td>\n",
       "    </tr>\n",
       "    <tr>\n",
       "      <th>2</th>\n",
       "      <td>0</td>\n",
       "      <td>0</td>\n",
       "      <td>1</td>\n",
       "    </tr>\n",
       "    <tr>\n",
       "      <th>3</th>\n",
       "      <td>0</td>\n",
       "      <td>0</td>\n",
       "      <td>1</td>\n",
       "    </tr>\n",
       "    <tr>\n",
       "      <th>4</th>\n",
       "      <td>1</td>\n",
       "      <td>1</td>\n",
       "      <td>1</td>\n",
       "    </tr>\n",
       "    <tr>\n",
       "      <th>...</th>\n",
       "      <td>...</td>\n",
       "      <td>...</td>\n",
       "      <td>...</td>\n",
       "    </tr>\n",
       "    <tr>\n",
       "      <th>4264</th>\n",
       "      <td>0</td>\n",
       "      <td>1</td>\n",
       "      <td>1</td>\n",
       "    </tr>\n",
       "    <tr>\n",
       "      <th>4265</th>\n",
       "      <td>1</td>\n",
       "      <td>1</td>\n",
       "      <td>0</td>\n",
       "    </tr>\n",
       "    <tr>\n",
       "      <th>4266</th>\n",
       "      <td>1</td>\n",
       "      <td>0</td>\n",
       "      <td>1</td>\n",
       "    </tr>\n",
       "    <tr>\n",
       "      <th>4267</th>\n",
       "      <td>1</td>\n",
       "      <td>0</td>\n",
       "      <td>0</td>\n",
       "    </tr>\n",
       "    <tr>\n",
       "      <th>4268</th>\n",
       "      <td>0</td>\n",
       "      <td>0</td>\n",
       "      <td>0</td>\n",
       "    </tr>\n",
       "  </tbody>\n",
       "</table>\n",
       "<p>4269 rows × 3 columns</p>\n",
       "</div>"
      ],
      "text/plain": [
       "      education  self_employed  loan_status\n",
       "0             0              0            0\n",
       "1             1              1            1\n",
       "2             0              0            1\n",
       "3             0              0            1\n",
       "4             1              1            1\n",
       "...         ...            ...          ...\n",
       "4264          0              1            1\n",
       "4265          1              1            0\n",
       "4266          1              0            1\n",
       "4267          1              0            0\n",
       "4268          0              0            0\n",
       "\n",
       "[4269 rows x 3 columns]"
      ]
     },
     "execution_count": 13,
     "metadata": {},
     "output_type": "execute_result"
    }
   ],
   "source": [
    "# Display the updated DataFrame with encoded columns\n",
    "data[['education', 'self_employed','loan_status']]"
   ]
  },
  {
   "cell_type": "code",
   "execution_count": 14,
   "id": "15db3ff8",
   "metadata": {},
   "outputs": [
    {
     "data": {
      "text/plain": [
       "Index(['no_of_dependents', 'education', 'self_employed', 'income_annum',\n",
       "       'loan_amount', 'loan_term', 'cibil_score', 'residential_assets_value',\n",
       "       'commercial_assets_value', 'luxury_assets_value', 'bank_asset_value',\n",
       "       'loan_status', 'cibil_range'],\n",
       "      dtype='object')"
      ]
     },
     "execution_count": 14,
     "metadata": {},
     "output_type": "execute_result"
    }
   ],
   "source": [
    "data.columns"
   ]
  },
  {
   "cell_type": "code",
   "execution_count": 31,
   "id": "132a4233",
   "metadata": {},
   "outputs": [
    {
     "data": {
      "text/plain": [
       "loan_status\n",
       "0    0.62216\n",
       "1    0.37784\n",
       "Name: proportion, dtype: float64"
      ]
     },
     "execution_count": 31,
     "metadata": {},
     "output_type": "execute_result"
    }
   ],
   "source": [
    "data.loan_status.value_counts(normalize = True)"
   ]
  },
  {
   "cell_type": "markdown",
   "id": "3c5f1424",
   "metadata": {},
   "source": [
    "## Some Data Visualisations"
   ]
  },
  {
   "cell_type": "code",
   "execution_count": 60,
   "id": "25b407c2",
   "metadata": {},
   "outputs": [
    {
     "data": {
      "text/plain": [
       "cibil_range\n",
       "Low          696\n",
       "Excellent    692\n",
       "Poor         542\n",
       "Fair         368\n",
       "Good         358\n",
       "Name: count, dtype: int64"
      ]
     },
     "execution_count": 60,
     "metadata": {},
     "output_type": "execute_result"
    }
   ],
   "source": [
    "#Let's look at the CIBIL ratings for approved loans.\n",
    "\n",
    "approval_by_range = data[data['loan_status'] ==0]['cibil_range'].value_counts()\n",
    "\n",
    "approval_by_range"
   ]
  },
  {
   "cell_type": "code",
   "execution_count": 62,
   "id": "2b9e4c8a",
   "metadata": {},
   "outputs": [
    {
     "data": {
      "image/png": "[encoded data removed]",
      "text/plain": [
       "<Figure size 640x480 with 1 Axes>"
      ]
     },
     "metadata": {},
     "output_type": "display_data"
    }
   ],
   "source": [
    "#Plot the frequency of cibil ratings for approved loans\n",
    "approval_by_range.plot(kind='barh', color='skyblue')\n",
    "\n",
    "# Add labels and title\n",
    "plt.xlabel('Number of ratings')\n",
    "plt.ylabel('CIBIL Ratings')\n",
    "plt.title('Frequency of CIBIL rating types for approved loans')\n",
    "\n",
    "# Show the plot\n",
    "plt.show()"
   ]
  },
  {
   "cell_type": "markdown",
   "id": "46775883",
   "metadata": {},
   "source": [
    "One may assume that the approved applicants' ratings would rank from best to worst in terms of frequency, but interestingly, the highest occurences are Low and Excellent."
   ]
  },
  {
   "cell_type": "code",
   "execution_count": 80,
   "id": "a4120eeb",
   "metadata": {},
   "outputs": [
    {
     "data": {
      "text/plain": [
       "(2656, 13)"
      ]
     },
     "execution_count": 80,
     "metadata": {},
     "output_type": "execute_result"
    }
   ],
   "source": [
    "#Let's look at the incomes of the applicants that had loans approved\n",
    "approved_loans = data[data['loan_status'] == 0]\n",
    "\n",
    "approved_loans.shape"
   ]
  },
  {
   "cell_type": "code",
   "execution_count": 82,
   "id": "a042cc15",
   "metadata": {},
   "outputs": [
    {
     "name": "stderr",
     "output_type": "stream",
     "text": [
      "/var/folders/5n/9y_q7ts15jj8n2k6y1lfcgjc0000gn/T/ipykernel_17124/2703819842.py:5: FutureWarning: The default of observed=False is deprecated and will be changed to True in a future version of pandas. Pass observed=False to retain current behavior or observed=True to adopt the future default and silence this warning.\n",
      "  income_ranges_counts = approved_loans.groupby(income_ranges).size()\n"
     ]
    },
    {
     "data": {
      "text/plain": [
       "income_annum\n",
       "(0.0, 100000.0]              0\n",
       "(100000.0, 200000.0]        29\n",
       "(200000.0, 400000.0]        57\n",
       "(400000.0, 800000.0]       117\n",
       "(800000.0, 2000000.0]      329\n",
       "(2000000.0, 4000000.0]     532\n",
       "(4000000.0, 6000000.0]     534\n",
       "(6000000.0, inf]          1058\n",
       "dtype: int64"
      ]
     },
     "execution_count": 82,
     "metadata": {},
     "output_type": "execute_result"
    }
   ],
   "source": [
    "# Use pd.cut() to bin 'income_annum' into income ranges\n",
    "income_ranges = pd.cut(data['income_annum'], bins=[0, 100_000, 200_000, 400_000, 800_000, 2_000_000, 4_000_000, 6_000_000, float('inf')])\n",
    "\n",
    "# Calculate the frequency of loan approvals within each income range\n",
    "income_ranges_counts = approved_loans.groupby(income_ranges).size()\n",
    "\n",
    "#Display the result\n",
    "income_ranges_counts"
   ]
  },
  {
   "cell_type": "code",
   "execution_count": 84,
   "id": "99ea2eab",
   "metadata": {},
   "outputs": [
    {
     "data": {
      "text/html": [
       "<div>\n",
       "<style scoped>\n",
       "    .dataframe tbody tr th:only-of-type {\n",
       "        vertical-align: middle;\n",
       "    }\n",
       "\n",
       "    .dataframe tbody tr th {\n",
       "        vertical-align: top;\n",
       "    }\n",
       "\n",
       "    .dataframe thead th {\n",
       "        text-align: right;\n",
       "    }\n",
       "</style>\n",
       "<table border=\"1\" class=\"dataframe\">\n",
       "  <thead>\n",
       "    <tr style=\"text-align: right;\">\n",
       "      <th>self_employed</th>\n",
       "      <th>0</th>\n",
       "      <th>1</th>\n",
       "    </tr>\n",
       "    <tr>\n",
       "      <th>income_annum</th>\n",
       "      <th></th>\n",
       "      <th></th>\n",
       "    </tr>\n",
       "  </thead>\n",
       "  <tbody>\n",
       "    <tr>\n",
       "      <th>(100000.0, 200000.0]</th>\n",
       "      <td>19</td>\n",
       "      <td>23</td>\n",
       "    </tr>\n",
       "    <tr>\n",
       "      <th>(200000.0, 400000.0]</th>\n",
       "      <td>42</td>\n",
       "      <td>44</td>\n",
       "    </tr>\n",
       "    <tr>\n",
       "      <th>(400000.0, 800000.0]</th>\n",
       "      <td>83</td>\n",
       "      <td>98</td>\n",
       "    </tr>\n",
       "    <tr>\n",
       "      <th>(800000.0, 2000000.0]</th>\n",
       "      <td>258</td>\n",
       "      <td>242</td>\n",
       "    </tr>\n",
       "    <tr>\n",
       "      <th>(2000000.0, 4000000.0]</th>\n",
       "      <td>415</td>\n",
       "      <td>450</td>\n",
       "    </tr>\n",
       "    <tr>\n",
       "      <th>(4000000.0, 6000000.0]</th>\n",
       "      <td>457</td>\n",
       "      <td>444</td>\n",
       "    </tr>\n",
       "    <tr>\n",
       "      <th>(6000000.0, inf]</th>\n",
       "      <td>845</td>\n",
       "      <td>849</td>\n",
       "    </tr>\n",
       "  </tbody>\n",
       "</table>\n",
       "</div>"
      ],
      "text/plain": [
       "self_employed             0    1\n",
       "income_annum                    \n",
       "(100000.0, 200000.0]     19   23\n",
       "(200000.0, 400000.0]     42   44\n",
       "(400000.0, 800000.0]     83   98\n",
       "(800000.0, 2000000.0]   258  242\n",
       "(2000000.0, 4000000.0]  415  450\n",
       "(4000000.0, 6000000.0]  457  444\n",
       "(6000000.0, inf]        845  849"
      ]
     },
     "execution_count": 84,
     "metadata": {},
     "output_type": "execute_result"
    }
   ],
   "source": [
    "# Create a cross-tabulation (crosstab) between income ranges and employment status\n",
    "\n",
    "income_employment_crosstab = pd.crosstab(index=income_ranges, columns=data['self_employed'])\n",
    "\n",
    "# Display the result (0 = not self employed, 1 = self employed)\n",
    "income_employment_crosstab"
   ]
  },
  {
   "cell_type": "code",
   "execution_count": 88,
   "id": "76f1fc2d",
   "metadata": {},
   "outputs": [
    {
     "data": {
      "image/png": "[encoded data removed]",
      "text/plain": [
       "<Figure size 1000x600 with 1 Axes>"
      ]
     },
     "metadata": {},
     "output_type": "display_data"
    }
   ],
   "source": [
    "# Plot the stacked bar plot\n",
    "income_employment_crosstab.plot(kind='bar', stacked=True, figsize=(10, 6))\n",
    "\n",
    "# Add labels and title\n",
    "plt.title('Employment Status by Income Range')\n",
    "plt.xlabel('Income Range')\n",
    "plt.ylabel('Count')\n",
    "plt.xticks(rotation=65)  # Rotate x-axis labels for better readability\n",
    "\n",
    "# Show plot\n",
    "plt.legend(title='Employment Status', labels=['Not Self-Employed', 'Self-Employed'])\n",
    "plt.tight_layout()  # Adjust layout to prevent clipping of labels\n",
    "plt.show()"
   ]
  },
  {
   "cell_type": "markdown",
   "id": "0c70724e",
   "metadata": {},
   "source": [
    "This dataset contains applicants with very high incomes, overall. One may assume that applicants with very high incomes are self-employed, however, the data contains a pretty even split of self-employed and not self-employed applicants across the income ranges."
   ]
  },
  {
   "cell_type": "markdown",
   "id": "8e03ad76",
   "metadata": {},
   "source": [
    "# Setting the X and y values"
   ]
  },
  {
   "cell_type": "code",
   "execution_count": 15,
   "id": "7472e2f7",
   "metadata": {
    "scrolled": true
   },
   "outputs": [],
   "source": [
    "# Split the data into the column `y` we want to predict and the columns `X` we will use to make the predictions\n",
    "X = data.drop(columns=['loan_status', 'cibil_range']) #drop the columns that we don't want to be used as features\n",
    "y = data['loan_status'] #target variable - want to predict loan_status"
   ]
  },
  {
   "cell_type": "markdown",
   "id": "d33d5046",
   "metadata": {},
   "source": [
    "# **Logistic Regression model**"
   ]
  },
  {
   "cell_type": "code",
   "execution_count": 16,
   "id": "590fb8d8",
   "metadata": {},
   "outputs": [],
   "source": [
    "# Set aside 25% of the data for testing the model and 75% for training\n",
    "from sklearn.model_selection import train_test_split\n",
    "\n",
    "X_train, X_test, y_train, y_test = train_test_split(X, y, random_state=42)"
   ]
  },
  {
   "cell_type": "code",
   "execution_count": 17,
   "id": "d9383282",
   "metadata": {
    "scrolled": false
   },
   "outputs": [
    {
     "data": {
      "text/html": [
       "<style>#sk-container-id-1 {color: black;}#sk-container-id-1 pre{padding: 0;}#sk-container-id-1 div.sk-toggleable {background-color: white;}#sk-container-id-1 label.sk-toggleable__label {cursor: pointer;display: block;width: 100%;margin-bottom: 0;padding: 0.3em;box-sizing: border-box;text-align: center;}#sk-container-id-1 label.sk-toggleable__label-arrow:before {content: \"▸\";float: left;margin-right: 0.25em;color: #696969;}#sk-container-id-1 label.sk-toggleable__label-arrow:hover:before {color: black;}#sk-container-id-1 div.sk-estimator:hover label.sk-toggleable__label-arrow:before {color: black;}#sk-container-id-1 div.sk-toggleable__content {max-height: 0;max-width: 0;overflow: hidden;text-align: left;background-color: #f0f8ff;}#sk-container-id-1 div.sk-toggleable__content pre {margin: 0.2em;color: black;border-radius: 0.25em;background-color: #f0f8ff;}#sk-container-id-1 input.sk-toggleable__control:checked~div.sk-toggleable__content {max-height: 200px;max-width: 100%;overflow: auto;}#sk-container-id-1 input.sk-toggleable__control:checked~label.sk-toggleable__label-arrow:before {content: \"▾\";}#sk-container-id-1 div.sk-estimator input.sk-toggleable__control:checked~label.sk-toggleable__label {background-color: #d4ebff;}#sk-container-id-1 div.sk-label input.sk-toggleable__control:checked~label.sk-toggleable__label {background-color: #d4ebff;}#sk-container-id-1 input.sk-hidden--visually {border: 0;clip: rect(1px 1px 1px 1px);clip: rect(1px, 1px, 1px, 1px);height: 1px;margin: -1px;overflow: hidden;padding: 0;position: absolute;width: 1px;}#sk-container-id-1 div.sk-estimator {font-family: monospace;background-color: #f0f8ff;border: 1px dotted black;border-radius: 0.25em;box-sizing: border-box;margin-bottom: 0.5em;}#sk-container-id-1 div.sk-estimator:hover {background-color: #d4ebff;}#sk-container-id-1 div.sk-parallel-item::after {content: \"\";width: 100%;border-bottom: 1px solid gray;flex-grow: 1;}#sk-container-id-1 div.sk-label:hover label.sk-toggleable__label {background-color: #d4ebff;}#sk-container-id-1 div.sk-serial::before {content: \"\";position: absolute;border-left: 1px solid gray;box-sizing: border-box;top: 0;bottom: 0;left: 50%;z-index: 0;}#sk-container-id-1 div.sk-serial {display: flex;flex-direction: column;align-items: center;background-color: white;padding-right: 0.2em;padding-left: 0.2em;position: relative;}#sk-container-id-1 div.sk-item {position: relative;z-index: 1;}#sk-container-id-1 div.sk-parallel {display: flex;align-items: stretch;justify-content: center;background-color: white;position: relative;}#sk-container-id-1 div.sk-item::before, #sk-container-id-1 div.sk-parallel-item::before {content: \"\";position: absolute;border-left: 1px solid gray;box-sizing: border-box;top: 0;bottom: 0;left: 50%;z-index: -1;}#sk-container-id-1 div.sk-parallel-item {display: flex;flex-direction: column;z-index: 1;position: relative;background-color: white;}#sk-container-id-1 div.sk-parallel-item:first-child::after {align-self: flex-end;width: 50%;}#sk-container-id-1 div.sk-parallel-item:last-child::after {align-self: flex-start;width: 50%;}#sk-container-id-1 div.sk-parallel-item:only-child::after {width: 0;}#sk-container-id-1 div.sk-dashed-wrapped {border: 1px dashed gray;margin: 0 0.4em 0.5em 0.4em;box-sizing: border-box;padding-bottom: 0.4em;background-color: white;}#sk-container-id-1 div.sk-label label {font-family: monospace;font-weight: bold;display: inline-block;line-height: 1.2em;}#sk-container-id-1 div.sk-label-container {text-align: center;}#sk-container-id-1 div.sk-container {/* jupyter's `normalize.less` sets `[hidden] { display: none; }` but bootstrap.min.css set `[hidden] { display: none !important; }` so we also need the `!important` here to be able to override the default hidden behavior on the sphinx rendered scikit-learn.org. See: https://github.com/scikit-learn/scikit-learn/issues/21755 */display: inline-block !important;position: relative;}#sk-container-id-1 div.sk-text-repr-fallback {display: none;}</style><div id=\"sk-container-id-1\" class=\"sk-top-container\"><div class=\"sk-text-repr-fallback\"><pre>LogisticRegression()</pre><b>In a Jupyter environment, please rerun this cell to show the HTML representation or trust the notebook. <br />On GitHub, the HTML representation is unable to render, please try loading this page with nbviewer.org.</b></div><div class=\"sk-container\" hidden><div class=\"sk-item\"><div class=\"sk-estimator sk-toggleable\"><input class=\"sk-toggleable__control sk-hidden--visually\" id=\"sk-estimator-id-1\" type=\"checkbox\" checked><label for=\"sk-estimator-id-1\" class=\"sk-toggleable__label sk-toggleable__label-arrow\">LogisticRegression</label><div class=\"sk-toggleable__content\"><pre>LogisticRegression()</pre></div></div></div></div></div>"
      ],
      "text/plain": [
       "LogisticRegression()"
      ]
     },
     "execution_count": 17,
     "metadata": {},
     "output_type": "execute_result"
    }
   ],
   "source": [
    "# Import a model class\n",
    "from sklearn.linear_model import LogisticRegression\n",
    "\n",
    "# Create a model from that class\n",
    "lr = LogisticRegression()\n",
    "\n",
    "# Ask the model to learn a function that predicts `y` from `X`\n",
    "lr.fit(X_train, y_train)"
   ]
  },
  {
   "cell_type": "code",
   "execution_count": 18,
   "id": "88718e92",
   "metadata": {},
   "outputs": [
    {
     "data": {
      "text/plain": [
       "0.6348314606741573"
      ]
     },
     "execution_count": 18,
     "metadata": {},
     "output_type": "execute_result"
    }
   ],
   "source": [
    "# Score the model on the test data\n",
    "lr.score(X_test, y_test)"
   ]
  },
  {
   "cell_type": "markdown",
   "id": "e4abce18",
   "metadata": {},
   "source": [
    "# **Fit a null model**"
   ]
  },
  {
   "cell_type": "code",
   "execution_count": 19,
   "id": "f63f7a8d",
   "metadata": {},
   "outputs": [
    {
     "data": {
      "text/html": [
       "<style>#sk-container-id-2 {color: black;}#sk-container-id-2 pre{padding: 0;}#sk-container-id-2 div.sk-toggleable {background-color: white;}#sk-container-id-2 label.sk-toggleable__label {cursor: pointer;display: block;width: 100%;margin-bottom: 0;padding: 0.3em;box-sizing: border-box;text-align: center;}#sk-container-id-2 label.sk-toggleable__label-arrow:before {content: \"▸\";float: left;margin-right: 0.25em;color: #696969;}#sk-container-id-2 label.sk-toggleable__label-arrow:hover:before {color: black;}#sk-container-id-2 div.sk-estimator:hover label.sk-toggleable__label-arrow:before {color: black;}#sk-container-id-2 div.sk-toggleable__content {max-height: 0;max-width: 0;overflow: hidden;text-align: left;background-color: #f0f8ff;}#sk-container-id-2 div.sk-toggleable__content pre {margin: 0.2em;color: black;border-radius: 0.25em;background-color: #f0f8ff;}#sk-container-id-2 input.sk-toggleable__control:checked~div.sk-toggleable__content {max-height: 200px;max-width: 100%;overflow: auto;}#sk-container-id-2 input.sk-toggleable__control:checked~label.sk-toggleable__label-arrow:before {content: \"▾\";}#sk-container-id-2 div.sk-estimator input.sk-toggleable__control:checked~label.sk-toggleable__label {background-color: #d4ebff;}#sk-container-id-2 div.sk-label input.sk-toggleable__control:checked~label.sk-toggleable__label {background-color: #d4ebff;}#sk-container-id-2 input.sk-hidden--visually {border: 0;clip: rect(1px 1px 1px 1px);clip: rect(1px, 1px, 1px, 1px);height: 1px;margin: -1px;overflow: hidden;padding: 0;position: absolute;width: 1px;}#sk-container-id-2 div.sk-estimator {font-family: monospace;background-color: #f0f8ff;border: 1px dotted black;border-radius: 0.25em;box-sizing: border-box;margin-bottom: 0.5em;}#sk-container-id-2 div.sk-estimator:hover {background-color: #d4ebff;}#sk-container-id-2 div.sk-parallel-item::after {content: \"\";width: 100%;border-bottom: 1px solid gray;flex-grow: 1;}#sk-container-id-2 div.sk-label:hover label.sk-toggleable__label {background-color: #d4ebff;}#sk-container-id-2 div.sk-serial::before {content: \"\";position: absolute;border-left: 1px solid gray;box-sizing: border-box;top: 0;bottom: 0;left: 50%;z-index: 0;}#sk-container-id-2 div.sk-serial {display: flex;flex-direction: column;align-items: center;background-color: white;padding-right: 0.2em;padding-left: 0.2em;position: relative;}#sk-container-id-2 div.sk-item {position: relative;z-index: 1;}#sk-container-id-2 div.sk-parallel {display: flex;align-items: stretch;justify-content: center;background-color: white;position: relative;}#sk-container-id-2 div.sk-item::before, #sk-container-id-2 div.sk-parallel-item::before {content: \"\";position: absolute;border-left: 1px solid gray;box-sizing: border-box;top: 0;bottom: 0;left: 50%;z-index: -1;}#sk-container-id-2 div.sk-parallel-item {display: flex;flex-direction: column;z-index: 1;position: relative;background-color: white;}#sk-container-id-2 div.sk-parallel-item:first-child::after {align-self: flex-end;width: 50%;}#sk-container-id-2 div.sk-parallel-item:last-child::after {align-self: flex-start;width: 50%;}#sk-container-id-2 div.sk-parallel-item:only-child::after {width: 0;}#sk-container-id-2 div.sk-dashed-wrapped {border: 1px dashed gray;margin: 0 0.4em 0.5em 0.4em;box-sizing: border-box;padding-bottom: 0.4em;background-color: white;}#sk-container-id-2 div.sk-label label {font-family: monospace;font-weight: bold;display: inline-block;line-height: 1.2em;}#sk-container-id-2 div.sk-label-container {text-align: center;}#sk-container-id-2 div.sk-container {/* jupyter's `normalize.less` sets `[hidden] { display: none; }` but bootstrap.min.css set `[hidden] { display: none !important; }` so we also need the `!important` here to be able to override the default hidden behavior on the sphinx rendered scikit-learn.org. See: https://github.com/scikit-learn/scikit-learn/issues/21755 */display: inline-block !important;position: relative;}#sk-container-id-2 div.sk-text-repr-fallback {display: none;}</style><div id=\"sk-container-id-2\" class=\"sk-top-container\"><div class=\"sk-text-repr-fallback\"><pre>DummyClassifier()</pre><b>In a Jupyter environment, please rerun this cell to show the HTML representation or trust the notebook. <br />On GitHub, the HTML representation is unable to render, please try loading this page with nbviewer.org.</b></div><div class=\"sk-container\" hidden><div class=\"sk-item\"><div class=\"sk-estimator sk-toggleable\"><input class=\"sk-toggleable__control sk-hidden--visually\" id=\"sk-estimator-id-2\" type=\"checkbox\" checked><label for=\"sk-estimator-id-2\" class=\"sk-toggleable__label sk-toggleable__label-arrow\">DummyClassifier</label><div class=\"sk-toggleable__content\"><pre>DummyClassifier()</pre></div></div></div></div></div>"
      ],
      "text/plain": [
       "DummyClassifier()"
      ]
     },
     "execution_count": 19,
     "metadata": {},
     "output_type": "execute_result"
    }
   ],
   "source": [
    "from sklearn.dummy import DummyClassifier\n",
    "\n",
    "null_model = DummyClassifier()\n",
    "null_model.fit(X_train, y_train)"
   ]
  },
  {
   "cell_type": "code",
   "execution_count": 20,
   "id": "c712ebb2",
   "metadata": {},
   "outputs": [
    {
     "data": {
      "text/plain": [
       "0.6348314606741573"
      ]
     },
     "execution_count": 20,
     "metadata": {},
     "output_type": "execute_result"
    }
   ],
   "source": [
    "#Get the null model's score on the test set\n",
    "null_model.score(X_test, y_test)"
   ]
  },
  {
   "cell_type": "markdown",
   "id": "51777724",
   "metadata": {},
   "source": [
    "# Random Forest Classification Model"
   ]
  },
  {
   "cell_type": "code",
   "execution_count": 21,
   "id": "d6bf33dc",
   "metadata": {},
   "outputs": [
    {
     "name": "stdout",
     "output_type": "stream",
     "text": [
      "train score: 0.999687597625742\n",
      "test score: 0.9831460674157303\n"
     ]
    }
   ],
   "source": [
    "from sklearn.ensemble import RandomForestClassifier\n",
    "\n",
    "#fit the Random Forest model\n",
    "rfc = RandomForestClassifier(n_estimators=20, n_jobs=-1)\n",
    "rfc.fit(X_train, y_train)\n",
    "\n",
    "print('train score:', rfc.score(X_train, y_train))\n",
    "print('test score:', rfc.score(X_test, y_test))"
   ]
  },
  {
   "cell_type": "code",
   "execution_count": 29,
   "id": "f943d0ab",
   "metadata": {},
   "outputs": [
    {
     "data": {
      "image/png": "[encoded data removed]",
      "text/plain": [
       "<Figure size 800x600 with 1 Axes>"
      ]
     },
     "metadata": {},
     "output_type": "display_data"
    }
   ],
   "source": [
    "import seaborn as sns\n",
    "from sklearn.metrics import confusion_matrix\n",
    "\n",
    "# Get predicted values for the testing set\n",
    "y_test_pred = rfc.predict(X_test)\n",
    "\n",
    "# Calculate confusion matrix\n",
    "cm = confusion_matrix(y_test, y_test_pred)\n",
    "\n",
    "# Plot confusion matrix as a heatmap\n",
    "plt.figure(figsize=(8, 6))\n",
    "sns.heatmap(cm, annot=True, cmap='Blues', fmt='g', cbar=False)\n",
    "plt.xlabel('Predicted Label')\n",
    "plt.ylabel('True Label')\n",
    "plt.title('Confusion Matrix')\n",
    "plt.show()"
   ]
  },
  {
   "cell_type": "markdown",
   "id": "654ac1dc",
   "metadata": {},
   "source": [
    "#### Confusion Matrix interpretation:\n",
    "1. There were 8 instances where the model predicted 'Rejected' but actual was 'Approved'\n",
    "2. There were 9 instances where the model predicted 'Approved' but actual was 'Rejected'"
   ]
  },
  {
   "cell_type": "markdown",
   "id": "32da974a",
   "metadata": {},
   "source": [
    "#### Reasons why Random Forest is a better model in this situation:\n",
    "1. Random Forest is a more complex model compared to logistic regression. It can capture nonlinear relationships and interactions between features more effectively, especially in high-dimensional (large number of features) data or nonlinear datasets.\n",
    "2. Logistic regression treats all features equally unless feature selection techniques are applied seperately. Random Forest can focus on the most important features and handle irrelevant of redundant features.\n",
    "3. Random Forest is less sensitive to outliers and noise in the data. Logistic regression is sensitive to outliers and may be influenced by them.\n",
    "4. Random Forest is an ensemble learning method that combines multiple decision trees to make predictions i.e it takes the 'majority vote' of its constituent decision trees."
   ]
  },
  {
   "cell_type": "markdown",
   "id": "506dc742",
   "metadata": {},
   "source": [
    "## Save the Random Forest Classification model"
   ]
  },
  {
   "cell_type": "code",
   "execution_count": 89,
   "id": "b696f047",
   "metadata": {},
   "outputs": [
    {
     "data": {
      "text/plain": [
       "['trained_rfc.joblib']"
      ]
     },
     "execution_count": 89,
     "metadata": {},
     "output_type": "execute_result"
    }
   ],
   "source": [
    "from joblib import dump, load\n",
    "\n",
    "# Save the trained model\n",
    "model_file = 'trained_rfc.joblib'\n",
    "dump(rfc, model_file)"
   ]
  },
  {
   "cell_type": "code",
   "execution_count": null,
   "id": "1e2d6a8b",
   "metadata": {},
   "outputs": [],
   "source": []
  }
 ],
 "metadata": {
  "kernelspec": {
   "display_name": "Python 3 (ipykernel)",
   "language": "python",
   "name": "python3"
  },
  "language_info": {
   "codemirror_mode": {
    "name": "ipython",
    "version": 3
   },
   "file_extension": ".py",
   "mimetype": "text/x-python",
   "name": "python",
   "nbconvert_exporter": "python",
   "pygments_lexer": "ipython3",
   "version": "3.10.10"
  }
 },
 "nbformat": 4,
 "nbformat_minor": 5
}
